{
 "cells": [
  {
   "cell_type": "code",
   "execution_count": 3,
   "metadata": {},
   "outputs": [
    {
     "name": "stderr",
     "output_type": "stream",
     "text": [
      "/tmp/ipykernel_892719/2950165697.py:7: MatplotlibDeprecationWarning: The get_cmap function was deprecated in Matplotlib 3.7 and will be removed two minor releases later. Use ``matplotlib.colormaps[name]`` or ``matplotlib.colormaps.get_cmap(obj)`` instead.\n",
      "  clist = [cm.get_cmap(\"gnuplot\")(float(i)/float(len(Tlist))) for i in range(len(Tlist))]\n"
     ]
    }
   ],
   "source": [
    "import os\n",
    "import numpy as np\n",
    "import math\n",
    "import matplotlib.pyplot as plt\n",
    "from matplotlib.pyplot import cm\n",
    "Tlist =[1.0]\n",
    "clist = [cm.get_cmap(\"gnuplot\")(float(i)/float(len(Tlist))) for i in range(len(Tlist))]\n",
    "font={'family':'serif',\n",
    "      # 'style':'italic',  # 斜体\n",
    "      'weight':'normal',\n",
    "      # 'color':'red',\n",
    "      'size': 18\n",
    "}"
   ]
  },
  {
   "cell_type": "code",
   "execution_count": 4,
   "metadata": {},
   "outputs": [],
   "source": [
    "def read_kernel(dirname):\n",
    "    filename = os.path.join(dirname, \"aveS0.dat\")\n",
    "    with open(filename,\"r\") as fp:\n",
    "        fp.readline()\n",
    "        fp.readline()\n",
    "        fp.readline()\n",
    "        s0CC,covs0CC = tuple([float(x) for x in fp.readline().split()])\n",
    "        s0HfC,covs0HfC = tuple([float(x) for x in fp.readline().split()])\n",
    "        s0HfHf,covs0HfHf = tuple([float(x) for x in fp.readline().split()])\n",
    "    return s0CC, s0HfC, s0HfHf, covs0CC, covs0HfC, covs0HfHf"
   ]
  },
  {
   "cell_type": "code",
   "execution_count": 5,
   "metadata": {},
   "outputs": [],
   "source": [
    "def read_lammpstrj(filedesc):\n",
    "    # three comment lines\n",
    "    for i in range(3): comment = filedesc.readline()\n",
    "    # number of atoms\n",
    "    natoms = int(filedesc.readline())\n",
    "\n",
    "    # 1 comment line\n",
    "    comment = filedesc.readline()\n",
    "    # assume orthorombic cell\n",
    "    cell = np.zeros(3,float)\n",
    "    for i in range(3):\n",
    "        # [cellmin, cellmax] = filedesc.readline().split()\n",
    "        linec = filedesc.readline().split()\n",
    "        cellmin = linec[0]\n",
    "        cellmax = linec[1]\n",
    "        cell[i] = float(cellmax) - float(cellmin)\n",
    "\n",
    "    # 1 comment line\n",
    "    comment = filedesc.readline()\n",
    "    names = np.zeros(natoms,'U2')\n",
    "    q = np.zeros((natoms,3),float)\n",
    "    sq = np.zeros((natoms,3),float)\n",
    "\n",
    "    for i in range(natoms):\n",
    "        line = filedesc.readline().split();\n",
    "        names[i] = line[1] # atom type\n",
    "        q[i] = line[2:5] # wrapped atomic coordinates\n",
    "        sq[i,0] = float(q[i,0])/cell[0] # scaled atomic coordinates\n",
    "        sq[i,1] = float(q[i,1])/cell[1] # scaled atomic coordinates\n",
    "        sq[i,2] = float(q[i,2])/cell[2] # scaled atomic coordinates\n",
    "    return [cell, names, sq]"
   ]
  },
  {
   "cell_type": "code",
   "execution_count": 6,
   "metadata": {},
   "outputs": [],
   "source": [
    "import numpy as np\n",
    "import torch\n",
    "from torch.autograd.functional import jacobian\n",
    "from torch.autograd.functional import hessian"
   ]
  },
  {
   "cell_type": "code",
   "execution_count": 7,
   "metadata": {},
   "outputs": [
    {
     "name": "stdout",
     "output_type": "stream",
     "text": [
      "[0.1  0.15 0.2  0.25 0.3  0.35 0.4  0.45 0.5  0.55 0.6  0.65 0.7  0.75\n",
      " 0.8  0.85 0.9  0.95]\n",
      "2333 2333\n",
      "3500 3500\n",
      "4666 4666\n",
      "5833 5832\n",
      "6999 6999\n",
      "8165 8165\n",
      "9332 9332\n",
      "10498 10498\n",
      "11665 11664\n",
      "12831 12831\n",
      "13997 13997\n",
      "15164 15164\n",
      "16330 16330\n",
      "17497 17497\n",
      "18663 18663\n",
      "19829 19829\n",
      "20996 20996\n",
      "22162 22162\n",
      "[[0.08623743 0.12926033 0.17217579 0.2150202  0.25782012 0.30052131\n",
      "  0.34318462 0.38574674 0.42822356 0.47068811 0.51302895 0.55537598\n",
      "  0.59756185 0.63976958 0.68185041 0.72388607 0.76585956 0.80775236]]\n",
      "[[0.77606292 0.73227826 0.68862937 0.64506061 0.60150661 0.55808998\n",
      "  0.51470338 0.47143557 0.42822356 0.38506843 0.34200708 0.29900353\n",
      "  0.25607702 0.21320777 0.1704352  0.12773601 0.08506308 0.04249794]]\n",
      "23328\n"
     ]
    }
   ],
   "source": [
    "import dpdata\n",
    "num_Vc = np.arange(0.1,1.,0.05)\n",
    "print(num_Vc)\n",
    "num_Vlist=[(i,1-i) for i in num_Vc]\n",
    "totalatom = 23328\n",
    "c_A_list = []\n",
    "c_B_list = []\n",
    "Tlist = [1.]\n",
    "Volume_list = []\n",
    "for idx_T, T in enumerate(Tlist):\n",
    "    c_A_list.append([])\n",
    "    c_B_list.append([])\n",
    "    Volume_list.append([])\n",
    "    for idx_num_V, num_V in enumerate(num_Vlist):\n",
    "        num_V1 = num_V[0]\n",
    "        dirname = \"binary/frac%.2f/\"%(num_V1)\n",
    "        filename = os.path.join(dirname, \"thermo-lammps.dat\")\n",
    "        Volume_data = np.loadtxt(filename, skiprows=10007).T[6]\n",
    "        Volume = np.mean(Volume_data)\n",
    "        Volume_list[-1].append(Volume)\n",
    "        conf = dpdata.System(os.path.join(dirname, \"data.lj\"), \"lammps/lmp\")\n",
    "        c_A = conf[\"atom_numbs\"][0]/Volume\n",
    "        c_A_list[-1].append(c_A)\n",
    "        c_B = conf[\"atom_numbs\"][1]/Volume\n",
    "        c_B_list[-1].append(c_B)\n",
    "\n",
    "        \n",
    "        print(int(np.ceil(totalatom*num_V1)), conf[\"atom_numbs\"][0])\n",
    "        # assert int(np.ceil(totalatom*num_V1)) == conf[\"atom_numbs\"][0]\n",
    "        # assert int(totalatom-np.ceil(totalatom*num_V1)) == conf[\"atom_numbs\"][1]\n",
    "c_A_list = np.array(c_A_list)\n",
    "c_B_list = np.array(c_B_list)\n",
    "Volume_list = np.array(Volume_list)\n",
    "\n",
    "print(c_A_list)\n",
    "print(c_B_list)\n",
    "print(totalatom)\n",
    "assert np.allclose(c_A_list+c_B_list, totalatom/Volume_list)"
   ]
  },
  {
   "cell_type": "code",
   "execution_count": 8,
   "metadata": {},
   "outputs": [],
   "source": [
    "def cofactor(B):\n",
    "    return (np.linalg.inv(B)).T * np.linalg.det(B)\n"
   ]
  },
  {
   "cell_type": "code",
   "execution_count": 9,
   "metadata": {},
   "outputs": [],
   "source": [
    "def fillDmat(x, Smat):\n",
    "    assert Smat.shape[0] == Smat.shape[1] and len(Smat.shape) == 2\n",
    "    rank = Smat.shape[0]  \n",
    "    Dmat = np.eye(rank)\n",
    "    for i in range(rank):\n",
    "        for j in range(rank):\n",
    "            if i != j:\n",
    "                Dmat[i][j] += np.sqrt(x[j]/x[i])*(Smat[i][j])\n",
    "            else:\n",
    "                Dmat[i][j] += np.sqrt(x[j]/x[i])*(Smat[i][j]-1)\n",
    "    return Dmat\n",
    "\n",
    "def fillDmat_(x, Smat):\n",
    "    assert Smat.shape[0] == Smat.shape[1] and len(Smat.shape) == 2\n",
    "    rank = Smat.shape[0]  \n",
    "    Dmat = torch.eye(rank).to(torch.float64)\n",
    "    for i in range(rank):\n",
    "        for j in range(rank):\n",
    "            if i != j:\n",
    "                Dmat[i][j] += torch.sqrt(x[j]/x[i])*(Smat[i][j])\n",
    "            else:\n",
    "                Dmat[i][j] += torch.sqrt(x[j]/x[i])*(Smat[i][j]-1)\n",
    "    return Dmat"
   ]
  },
  {
   "cell_type": "code",
   "execution_count": 10,
   "metadata": {},
   "outputs": [],
   "source": [
    "def fillapproxGmat(Smat):\n",
    "    assert Smat.shape[0] == Smat.shape[1] and len(Smat.shape) == 2\n",
    "    rank = Smat.shape[0]  \n",
    "    Gmat = Smat/0.04-np.eye(rank,rank)/0.04\n",
    "    return Gmat\n",
    "\n",
    "def fillGmat_(c, Smat):\n",
    "    assert Smat.shape[0] == Smat.shape[1] and len(Smat.shape) == 2\n",
    "    rank = Smat.shape[0]  \n",
    "    Gmat = Smat-torch.eye(rank,rank).to(torch.float64)\n",
    "    for i in range(rank):\n",
    "        for j in range(rank):\n",
    "            Gmat[i][j] /= torch.sqrt(c[i]*c[j])\n",
    "    return Gmat"
   ]
  },
  {
   "cell_type": "code",
   "execution_count": 11,
   "metadata": {},
   "outputs": [],
   "source": [
    "def fillBmat_(c, Gmat):\n",
    "    assert Gmat.shape[0] == Gmat.shape[1] and len(Gmat.shape) == 2\n",
    "    rank = Gmat.shape[0]  \n",
    "    Bmat = torch.eye(rank,rank).to(torch.float64)\n",
    "    for i in range(rank):\n",
    "        for j in range(rank):\n",
    "            if i == j:\n",
    "                Bmat[i][j] = c[i]+c[i]*c[j]*Gmat[i][j]\n",
    "            else:\n",
    "                Bmat[i][j] = c[i]*c[j]*Gmat[i][j]\n",
    "    return Bmat"
   ]
  },
  {
   "cell_type": "code",
   "execution_count": 12,
   "metadata": {},
   "outputs": [],
   "source": [
    "def KBI_mu(c_, Smat_, elem=0):\n",
    "    rank = c_.shape[0]\n",
    "    Smat_ = Smat_.reshape(rank, rank)\n",
    "    # print(\"            Smat = \", Smat_[0,0], Smat_[1,1], Smat_[0,1], Smat_[1,0])\n",
    "    \n",
    "    Gmat_ = fillGmat_(c_, Smat_)\n",
    "\n",
    "    Kai_NPT_00_a = 1./(Smat_[0][0]-torch.sqrt(c_[0]/c_[1])*Smat_[0][1]) \n",
    "    Kai_NPT_11_a = 1./(Smat_[1][1]-torch.sqrt(c_[1]/c_[0])*Smat_[0][1]) \n",
    "    Kai_NPT_00_b = 1./(1.+c_[0]*(Gmat_[0][0]-Gmat_[0][1])) \n",
    "    Kai_NPT_11_b = 1./(1.+c_[1]*(Gmat_[1][1]-Gmat_[1][0])) \n",
    "    assert torch.allclose( Kai_NPT_00_a, Kai_NPT_00_b)\n",
    "    assert torch.allclose( Kai_NPT_11_a, Kai_NPT_11_b)\n",
    "\n",
    "    if elem == 0:\n",
    "        return Kai_NPT_00_a\n",
    "    elif elem == 1:\n",
    "        return Kai_NPT_11_b"
   ]
  },
  {
   "cell_type": "code",
   "execution_count": 13,
   "metadata": {},
   "outputs": [
    {
     "name": "stdout",
     "output_type": "stream",
     "text": [
      "Number of C vacancies = 0.1\n",
      "Mole fraction of atoms in the system = (0.1, 0.9)\n",
      "Density of atoms in the system = tensor([0.0862, 0.7761], dtype=torch.float64)\n",
      "Volume =  27053.218907909213\n",
      "Kai_NPT_lnc =  0.9995176442284776 0.9770830223629947\n"
     ]
    },
    {
     "name": "stdout",
     "output_type": "stream",
     "text": [
      "\n",
      "\n",
      "Number of C vacancies = 0.15000000000000002\n",
      "Mole fraction of atoms in the system = (0.15000000000000002, 0.85)\n",
      "Density of atoms in the system = tensor([0.1293, 0.7323], dtype=torch.float64)\n",
      "Volume =  27077.138856828635\n",
      "Kai_NPT_lnc =  0.9972430121750608 0.9766845257361192\n",
      "\n",
      "\n",
      "Number of C vacancies = 0.20000000000000004\n",
      "Mole fraction of atoms in the system = (0.20000000000000004, 0.7999999999999999)\n",
      "Density of atoms in the system = tensor([0.1722, 0.6886], dtype=torch.float64)\n",
      "Volume =  27100.209287771224\n",
      "Kai_NPT_lnc =  0.9889771177040182 0.9684574177328895\n",
      "\n",
      "\n",
      "Number of C vacancies = 0.25000000000000006\n",
      "Mole fraction of atoms in the system = (0.25000000000000006, 0.75)\n",
      "Density of atoms in the system = tensor([0.2150, 0.6451], dtype=torch.float64)\n",
      "Volume =  27123.032566486705\n",
      "Kai_NPT_lnc =  1.006530227738626 0.9866522266960537\n",
      "\n",
      "\n",
      "Number of C vacancies = 0.30000000000000004\n",
      "Mole fraction of atoms in the system = (0.30000000000000004, 0.7)\n",
      "Density of atoms in the system = tensor([0.2578, 0.6015], dtype=torch.float64)\n",
      "Volume =  27146.834066993302\n",
      "Kai_NPT_lnc =  1.0066606405018421 0.9881654321477514\n",
      "\n",
      "\n",
      "Number of C vacancies = 0.3500000000000001\n",
      "Mole fraction of atoms in the system = (0.3500000000000001, 0.6499999999999999)\n",
      "Density of atoms in the system = tensor([0.3005, 0.5581], dtype=torch.float64)\n",
      "Volume =  27169.453857628472\n",
      "Kai_NPT_lnc =  0.999847297488997 0.9815369733925932\n",
      "\n",
      "\n",
      "Number of C vacancies = 0.40000000000000013\n",
      "Mole fraction of atoms in the system = (0.40000000000000013, 0.5999999999999999)\n",
      "Density of atoms in the system = tensor([0.3432, 0.5147], dtype=torch.float64)\n",
      "Volume =  27192.360803619635\n",
      "Kai_NPT_lnc =  1.001859103375203 0.9846197415096873\n",
      "\n",
      "\n",
      "Number of C vacancies = 0.45000000000000007\n",
      "Mole fraction of atoms in the system = (0.45000000000000007, 0.5499999999999999)\n",
      "Density of atoms in the system = tensor([0.3857, 0.4714], dtype=torch.float64)\n",
      "Volume =  27214.747450709856\n",
      "Kai_NPT_lnc =  0.9985494238584111 0.9813086170013904\n",
      "\n",
      "\n",
      "Number of C vacancies = 0.5000000000000001\n",
      "Mole fraction of atoms in the system = (0.5000000000000001, 0.4999999999999999)\n",
      "Density of atoms in the system = tensor([0.4282, 0.4282], dtype=torch.float64)\n",
      "Volume =  27238.108913508644\n",
      "Kai_NPT_lnc =  1.0027026142169506 0.9859033239040944\n",
      "\n",
      "\n",
      "Number of C vacancies = 0.5500000000000002\n",
      "Mole fraction of atoms in the system = (0.5500000000000002, 0.44999999999999984)\n",
      "Density of atoms in the system = tensor([0.4707, 0.3851], dtype=torch.float64)\n",
      "Volume =  27260.089608478298\n",
      "Kai_NPT_lnc =  1.002152114641602 0.9866551082794369\n",
      "\n",
      "\n",
      "Number of C vacancies = 0.6000000000000002\n",
      "Mole fraction of atoms in the system = (0.6000000000000002, 0.3999999999999998)\n",
      "Density of atoms in the system = tensor([0.5130, 0.3420], dtype=torch.float64)\n",
      "Volume =  27283.06088471153\n",
      "Kai_NPT_lnc =  1.0061116714357097 0.9911885564343089\n",
      "\n",
      "\n",
      "Number of C vacancies = 0.6500000000000001\n",
      "Mole fraction of atoms in the system = (0.6500000000000001, 0.34999999999999987)\n",
      "Density of atoms in the system = tensor([0.5554, 0.2990], dtype=torch.float64)\n",
      "Volume =  27304.025529094182\n",
      "Kai_NPT_lnc =  1.0074361666542544 0.9915857068872096\n",
      "\n",
      "\n",
      "Number of C vacancies = 0.7000000000000002\n",
      "Mole fraction of atoms in the system = (0.7000000000000002, 0.2999999999999998)\n",
      "Density of atoms in the system = tensor([0.5976, 0.2561], dtype=torch.float64)\n",
      "Volume =  27327.715182281772\n",
      "Kai_NPT_lnc =  1.0038875785055579 0.989834533674881\n",
      "\n",
      "\n",
      "Number of C vacancies = 0.7500000000000002\n",
      "Mole fraction of atoms in the system = (0.7500000000000002, 0.24999999999999978)\n",
      "Density of atoms in the system = tensor([0.6398, 0.2132], dtype=torch.float64)\n",
      "Volume =  27348.909139972006\n",
      "Kai_NPT_lnc =  1.0027452208753103 0.9882281174088197\n",
      "\n",
      "\n",
      "Number of C vacancies = 0.8000000000000002\n",
      "Mole fraction of atoms in the system = (0.8000000000000002, 0.19999999999999984)\n",
      "Density of atoms in the system = tensor([0.6819, 0.1704], dtype=torch.float64)\n",
      "Volume =  27371.106190780923\n",
      "Kai_NPT_lnc =  1.0126454113207477 0.9985449237168401\n",
      "\n",
      "\n",
      "Number of C vacancies = 0.8500000000000002\n",
      "Mole fraction of atoms in the system = (0.8500000000000002, 0.1499999999999998)\n",
      "Density of atoms in the system = tensor([0.7239, 0.1277], dtype=torch.float64)\n",
      "Volume =  27392.43224455109\n",
      "Kai_NPT_lnc =  1.010528704328239 0.9970979260127609\n",
      "\n",
      "\n",
      "Number of C vacancies = 0.9000000000000002\n",
      "Mole fraction of atoms in the system = (0.9000000000000002, 0.09999999999999976)\n",
      "Density of atoms in the system = tensor([0.7659, 0.0851], dtype=torch.float64)\n",
      "Volume =  27414.947839716024\n",
      "Kai_NPT_lnc =  1.0136824446990338 1.0020939428203486\n",
      "\n",
      "\n",
      "Number of C vacancies = 0.9500000000000003\n",
      "Mole fraction of atoms in the system = (0.9500000000000003, 0.04999999999999971)\n",
      "Density of atoms in the system = tensor([0.8078, 0.0425], dtype=torch.float64)\n",
      "Volume =  27436.626699860026\n",
      "Kai_NPT_lnc =  1.002068296871076 0.9946128845774097\n",
      "\n",
      "\n"
     ]
    },
    {
     "name": "stderr",
     "output_type": "stream",
     "text": [
      "/tmp/ipykernel_892719/3193613552.py:47: UserWarning: The use of `x.T` on tensors of dimension other than 2 to reverse their shape is deprecated and it will throw an error in a future release. Consider `x.mT` to transpose batches of matrices or `x.permute(*torch.arange(x.ndim - 1, -1, -1))` to reverse the dimensions of a tensor. (Triggered internally at ../aten/src/ATen/native/TensorShape.cpp:3637.)\n",
      "  varmat_KaiNPT_lnx = torch.matmul(torch.matmul(jac, varmat_Smat_), jac.T)\n"
     ]
    }
   ],
   "source": [
    "Kai_NPT_lnx_list = []\n",
    "Kai_NPT_lnx1_list = []\n",
    "std_Kai_NPT_lnx_list = []\n",
    "s0CC_list = []\n",
    "s0HfC_list = []\n",
    "s0HfHf_list = []\n",
    "Tlist = [1.]\n",
    "for idx_T, T in enumerate(Tlist):\n",
    "    Kai_NPT_lnx_list.append([])\n",
    "    Kai_NPT_lnx1_list.append([])\n",
    "    std_Kai_NPT_lnx_list.append([])\n",
    "    s0CC_list.append([])\n",
    "    s0HfC_list.append([])\n",
    "    s0HfHf_list.append([])\n",
    "    for idx_num_V, num_V in enumerate(num_Vlist):\n",
    "        num_V1 = num_V[0]\n",
    "        dirname = \"binary/frac%.2f/\"%(num_V1)\n",
    "        s0CC, s0HfC, s0HfHf, cov_s0CC, cov_s0HfC, cov_s0HfHf = read_kernel(dirname)\n",
    "        s0CC_list[-1].append(s0CC)\n",
    "        s0HfC_list[-1].append(s0HfC)\n",
    "        s0HfHf_list[-1].append(s0HfHf)\n",
    "\n",
    "        x = num_V\n",
    "        print(\"Number of C vacancies =\", num_V1)\n",
    "        print(\"Mole fraction of atoms in the system =\",x)\n",
    "        c_A = c_A_list[0][idx_num_V]\n",
    "        c_B = c_B_list[0][idx_num_V]\n",
    "        c = torch.tensor([c_A, c_B]).to(torch.float64).requires_grad_(False)\n",
    "        print(\"Density of atoms in the system =\",c)\n",
    "        Smat = np.array([[s0CC, s0HfC], [s0HfC, s0HfHf]])\n",
    "        std_Smat = np.sqrt(np.array([cov_s0CC, cov_s0HfC, cov_s0HfC, cov_s0HfHf]))\n",
    "        # print(\"   std_Smat = \", std_Smat)\n",
    "        varmat_Smat = np.outer(std_Smat, std_Smat)\n",
    "        # print(\"varmat_Smat = \")\n",
    "        # print(varmat_Smat)\n",
    "\n",
    "        Smat_ = torch.from_numpy(Smat.reshape(-1)).to(dtype=torch.float64).requires_grad_()\n",
    "        x_ = torch.tensor(x).to(torch.float64).requires_grad_(False)\n",
    "        print(\"Volume = \", Volume_list[idx_T][idx_num_V])\n",
    "        Kai_NPT_lnx_0 = KBI_mu(c, Smat_, 0)\n",
    "        Kai_NPT_lnx_1 = KBI_mu(c, Smat_, 1)\n",
    "        print(\"Kai_NPT_lnc = \", Kai_NPT_lnx_0.detach().numpy(), Kai_NPT_lnx_1.detach().numpy())\n",
    "        jac = jacobian(KBI_mu, (c, Smat_.reshape(-1)))[1]\n",
    "        # print(\"Jac = \")\n",
    "        # print(jac)\n",
    "        varmat_Smat_ = torch.from_numpy(varmat_Smat)\n",
    "        varmat_KaiNPT_lnx = torch.matmul(torch.matmul(jac, varmat_Smat_), jac.T)\n",
    "\n",
    "        \n",
    "        # print(\"          var_KaiNPT_lnx = \", varmat_KaiNPT_lnx)\n",
    "        std_KaiNPT_lnx = torch.sqrt(varmat_KaiNPT_lnx)\n",
    "        # print(\"          std_KaiNPT_lnx = \", std_KaiNPT_lnx)\n",
    "        Kai_NPT_lnx_list[-1].append(Kai_NPT_lnx_0.detach().numpy())\n",
    "        Kai_NPT_lnx1_list[-1].append(Kai_NPT_lnx_1.detach().numpy())\n",
    "        std_Kai_NPT_lnx_list[-1].append(std_KaiNPT_lnx.detach().numpy())\n",
    "\n",
    "        print(\"\\n\")\n",
    "        "
   ]
  },
  {
   "cell_type": "code",
   "execution_count": 32,
   "metadata": {},
   "outputs": [
    {
     "data": {
      "text/plain": [
       "<matplotlib.legend.Legend at 0x14b7d04abac0>"
      ]
     },
     "execution_count": 32,
     "metadata": {},
     "output_type": "execute_result"
    },
    {
     "data": {
      "image/png": "[encoded data removed]",
      "text/plain": [
       "<Figure size 600x500 with 1 Axes>"
      ]
     },
     "metadata": {},
     "output_type": "display_data"
    }
   ],
   "source": [
    "plt.rcParams[\"figure.figsize\"] = (6,5)\n",
    "xlist = num_Vc\n",
    "plt.plot(xlist[:-1], s0CC_list[0][:-1], marker=\"o\", label=\"$S^0_{A-A}$\")\n",
    "plt.plot(xlist[:-1], s0HfC_list[0][:-1], marker=\"o\", label=\"$S^0_{A-B}$\")\n",
    "plt.plot(xlist[:-1], s0HfHf_list[0][:-1], marker=\"o\", label=\"$S^0_{B-B}$\")\n",
    "plt.axhline(0.5, c=\"k\")\n",
    "plt.axvline(0.5, c=\"k\")\n",
    "plt.xlabel(\"$x_A$\")\n",
    "plt.ylabel(\"$S^0$\")\n",
    "plt.legend()"
   ]
  },
  {
   "cell_type": "code",
   "execution_count": 15,
   "metadata": {},
   "outputs": [],
   "source": [
    "Kai_NPT_lnx_list[0] = np.array(Kai_NPT_lnx_list[0])\n",
    "Kai_NPT_lnx1_list[0] = np.array(Kai_NPT_lnx1_list[0])\n"
   ]
  },
  {
   "cell_type": "code",
   "execution_count": 16,
   "metadata": {},
   "outputs": [
    {
     "name": "stdout",
     "output_type": "stream",
     "text": [
      "23328\n",
      "[[27053.21890791 27077.13885683 27100.20928777 27123.03256649\n",
      "  27146.83406699 27169.45385763 27192.36080362 27214.74745071\n",
      "  27238.10891351 27260.08960848 27283.06088471 27304.02552909\n",
      "  27327.71518228 27348.90913997 27371.10619078 27392.43224455\n",
      "  27414.94783972 27436.62669986]]\n",
      "[[0.08623003 0.12923079 0.17216103 0.2150202  0.25779802 0.30051395\n",
      "  0.3431552  0.38573204 0.42822356 0.4706661  0.51302162 0.55534668\n",
      "  0.59754721 0.63973301 0.68182849 0.72387876 0.76583038 0.80773778]]\n",
      "[[0.08623743 0.12926033 0.17217579 0.2150202  0.25782012 0.30052131\n",
      "  0.34318462 0.38574674 0.42822356 0.47068811 0.51302895 0.55537598\n",
      "  0.59756185 0.63976958 0.68185041 0.72388607 0.76585956 0.80775236]]\n",
      "[[0.81918533 0.77538473 0.73168439 0.68806465 0.64449504 0.60102791\n",
      "  0.5576272  0.51430938 0.47104592 0.42787827 0.38476621 0.3417518\n",
      "  0.29877361 0.2558932  0.2130714  0.17032442 0.1276384  0.08502503]]\n",
      "[[0.77606292 0.73227826 0.68862937 0.64506061 0.60150661 0.55808998\n",
      "  0.51470338 0.47143557 0.42822356 0.38506843 0.34200708 0.29900353\n",
      "  0.25607702 0.21320777 0.1704352  0.12773601 0.08506308 0.04249794]]\n",
      "[-2.450651   -2.04592682 -1.75923928 -1.53702328 -1.35549315 -1.2022366\n",
      " -1.06948673 -0.95257425 -0.84810988 -0.7535596  -0.66742301 -0.58810995\n",
      " -0.51489749 -0.44664721 -0.38294498 -0.32312127 -0.26675646 -0.21349975]\n",
      "[-0.25352168 -0.31159471 -0.37305208 -0.43841099 -0.50831776 -0.58323507\n",
      " -0.66416451 -0.75197283 -0.84810988 -0.95433421 -1.07292384 -1.2072999\n",
      " -1.362277   -1.54548813 -1.7694001  -2.05778957 -2.46436214 -3.15829977]\n"
     ]
    }
   ],
   "source": [
    "\n",
    "lnc = np.log(c_A_list).reshape(-1,1)\n",
    "lnc1 = np.log(c_B_list).reshape(-1,1)\n",
    "print(totalatom)\n",
    "Volume_list = np.array(Volume_list)\n",
    "print(Volume_list)\n",
    "print(totalatom*np.arange(0.1, 1, 0.05)/Volume_list)\n",
    "print(c_A_list)\n",
    "print(totalatom*np.arange(0.95,0.05,-0.05)/Volume_list)\n",
    "print(c_B_list)\n",
    "\n",
    "print(lnc.reshape(-1))\n",
    "print(lnc1.reshape(-1))"
   ]
  },
  {
   "cell_type": "code",
   "execution_count": 17,
   "metadata": {},
   "outputs": [
    {
     "name": "stderr",
     "output_type": "stream",
     "text": [
      "/nfs/scistore14/chenggrp/ptuo/pkgs/deepmd-kit/lib/python3.10/site-packages/sklearn/gaussian_process/kernels.py:419: ConvergenceWarning: The optimal value found for dimension 0 of parameter k1__k2__length_scale is close to the specified lower bound 1e-05. Decreasing the bound and calling fit again may find a better value.\n",
      "  warnings.warn(\n",
      "/nfs/scistore14/chenggrp/ptuo/pkgs/deepmd-kit/lib/python3.10/site-packages/sklearn/gaussian_process/kernels.py:419: ConvergenceWarning: The optimal value found for dimension 0 of parameter k1__k2__length_scale is close to the specified lower bound 1e-05. Decreasing the bound and calling fit again may find a better value.\n",
      "  warnings.warn(\n"
     ]
    }
   ],
   "source": [
    "from sklearn.gaussian_process import GaussianProcessRegressor\n",
    "from sklearn.gaussian_process.kernels import RBF, ConstantKernel\n",
    "from scipy.integrate import quad\n",
    "# kernel = 1.0 * RBF(length_scale=0.005, length_scale_bounds=\"fixed\")\n",
    "kernel = 1.0 * RBF(length_scale=1) +ConstantKernel()\n",
    "gp = GaussianProcessRegressor(kernel=kernel)\n",
    "\n",
    "gp.fit(lnc.reshape(-1,1), Kai_NPT_lnx_list[0].reshape(-1,1))\n",
    "y_gp, std_y_gp = gp.predict(lnc.reshape(-1,1), return_std=True)\n",
    "\n",
    "\n",
    "\n",
    "kernel = 1.0 * RBF(length_scale=1) +ConstantKernel()\n",
    "gp1 = GaussianProcessRegressor(kernel=kernel)\n",
    "gp1.fit(lnc1.reshape(-1,1), Kai_NPT_lnx1_list[0].reshape(-1,1))\n",
    "y_gp1, std_y_gp1 = gp1.predict(lnc1.reshape(-1,1), return_std=True)"
   ]
  },
  {
   "cell_type": "code",
   "execution_count": 31,
   "metadata": {},
   "outputs": [
    {
     "data": {
      "text/plain": [
       "<matplotlib.legend.Legend at 0x14b7ba8cc790>"
      ]
     },
     "execution_count": 31,
     "metadata": {},
     "output_type": "execute_result"
    },
    {
     "data": {
      "image/png": "[encoded data removed]",
      "text/plain": [
       "<Figure size 600x500 with 1 Axes>"
      ]
     },
     "metadata": {},
     "output_type": "display_data"
    }
   ],
   "source": [
    "plt.rcParams[\"figure.figsize\"] = (6,5)\n",
    "\n",
    "plt.scatter(xlist[:-1], Kai_NPT_lnx_list[0][:-1]-1, marker=\"o\", label=\"A\")\n",
    "# plt.scatter(xlist, y_gp-1, marker=\"*\", label=\"A\")\n",
    "\n",
    "plt.scatter(xlist[:-1], Kai_NPT_lnx1_list[0][:-1]-1, marker=\"o\", label=\"B\")\n",
    "# plt.scatter(xlist, y_gp1-1, marker=\"x\", label=\"B\")\n",
    "\n",
    "plt.xlabel(\"$x_C$\")\n",
    "plt.ylabel(\"$\\partial \\mu_C/\\partial (lnx_C)$\")\n",
    "plt.legend()\n",
    "\n",
    "# plt.subplot(122)\n",
    "# plt.scatter(x, Kai_NPT_lnx_list[0], marker=\"o\", label=\"sample\")\n",
    "# plt.errorbar(x, Kai_NPT_lnx_list[0], order2_std_Kai_NPT_lnx_list[0], label=\"2nd order stderr\")\n",
    "# plt.xlabel(\"$x_C$\")\n",
    "# plt.ylabel(\"$\\partial \\mu_C/\\partial (lnx_C)$\")\n",
    "# plt.legend()\n"
   ]
  },
  {
   "cell_type": "code",
   "execution_count": 26,
   "metadata": {},
   "outputs": [
    {
     "name": "stdout",
     "output_type": "stream",
     "text": [
      "[-2.450651   -2.04592682 -1.75923928 -1.53702328 -1.35549315 -1.2022366\n",
      " -1.06948673 -0.95257425 -0.84810988 -0.7535596  -0.66742301 -0.58810995\n",
      " -0.51489749 -0.44664721 -0.38294498 -0.32312127 -0.26675646 -0.21349975]\n",
      "[-0.25352168 -0.31159471 -0.37305208 -0.43841099 -0.50831776 -0.58323507\n",
      " -0.66416451 -0.75197283 -0.84810988 -0.95433421 -1.07292384 -1.2072999\n",
      " -1.362277   -1.54548813 -1.7694001  -2.05778957 -2.46436214 -3.15829977]\n",
      "Integrand\n",
      "[-0.00048236 -0.00275699 -0.01102288  0.00653023  0.00666064 -0.0001527\n",
      "  0.0018591  -0.00145058  0.00270261  0.00215211  0.00611167  0.00743617\n",
      "  0.00388758  0.00274522  0.01264541  0.0105287   0.01368244  0.0020683 ]\n",
      "[-0.02291698 -0.02331547 -0.03154258 -0.01334777 -0.01183457 -0.01846303\n",
      " -0.01538026 -0.01869138 -0.01409668 -0.01334489 -0.00881144 -0.00841429\n",
      " -0.01016547 -0.01177188 -0.00145508 -0.00290207  0.00209394 -0.00538712]\n",
      "Integral cumsum\n",
      "[-0.00065551 -0.00263076 -0.00312993 -0.00193266 -0.00143397 -0.00132071\n",
      " -0.00129682 -0.00123143 -0.00100192 -0.00064601 -0.00010875  0.00030577\n",
      "  0.00053211  0.00102232  0.0017155   0.00239783  0.00281724]\n",
      "[0.00134243 0.00302814 0.00449513 0.00537534 0.00651025 0.00787971\n",
      " 0.00937559 0.01095167 0.01240915 0.0137229  0.01488027 0.01631999\n",
      " 0.01832957 0.01981041 0.02043869 0.02060298 0.02174562]\n"
     ]
    },
    {
     "data": {
      "image/png": "[encoded data removed]",
      "text/plain": [
       "<Figure size 600x500 with 1 Axes>"
      ]
     },
     "metadata": {},
     "output_type": "display_data"
    }
   ],
   "source": [
    "plt.rcParams[\"figure.figsize\"] = (6,5)\n",
    "from scipy.integrate import trapz\n",
    "lnc1 = lnc1.reshape(-1)\n",
    "lnc = lnc.reshape(-1)\n",
    "print(lnc)\n",
    "print(lnc1)\n",
    "\n",
    "\n",
    "print(\"Integrand\")\n",
    "# print(y_gp-1)\n",
    "print(Kai_NPT_lnx_list[0]-1)\n",
    "# print(y_gp1-1)\n",
    "print(Kai_NPT_lnx1_list[0]-1)\n",
    "\n",
    "plt.scatter(xlist, y_gp-1)\n",
    "plt.scatter(xlist, y_gp1-1)\n",
    "\n",
    "integral_gp = np.cumsum([(y_gp[i]+y_gp[i+1]-2)/2*(lnc[i+1]-lnc[i]) for i in np.arange(len(lnc)-1)])\n",
    "integral_gp1 = np.cumsum([(y_gp1[i]+y_gp1[i+1]-2)/2*(lnc1[i+1]-lnc1[i]) for i in range(len(lnc1)-1)])\n",
    "print(\"Integral cumsum\")\n",
    "print(integral_gp)\n",
    "print(integral_gp1)\n",
    "# baseline = np.cumsum([-(lnc[i]+lnc[i-1])/2*(lnc[i]-lnc[i-1]) for i in range(len(lnc)-1,0, -1)])\n",
    "# baseline1 = np.cumsum([-(lnc1[i]+lnc1[i+1])/2*(lnc1[i+1]-lnc1[i]) for i in range(len(lnc1)-1)])\n",
    "# print(\"baseline\")\n",
    "# print(baseline)\n",
    "# print(baseline1)\n",
    "# \n",
    "# print(\"excess\")\n",
    "# print((integral_gp-baseline)-(integral_gp-baseline)[0])\n",
    "# print((integral_gp1-baseline1)-(integral_gp1-baseline1)[0])\n"
   ]
  },
  {
   "cell_type": "code",
   "execution_count": 20,
   "metadata": {},
   "outputs": [
    {
     "data": {
      "text/plain": [
       "'\\nlnx = lnx.reshape(-1)\\nMCintegral_gp = [y_gp[0]]\\nMCintegral_gp_std = [0]\\nprint(std_Kai_NPT_lnx_list)\\n\\nfor i in range(1, len(lnx)-1):\\n    min_lnx = lnx[0]\\n    max_lnx = lnx[i+1]\\n    area_lnx = (max_lnx-min_lnx)\\n    MC_x_samples = np.random.uniform(min_lnx, max_lnx, size=100*(i))\\n    MC_y_samples, std_MC_y_samples = gp.predict(MC_x_samples.reshape(-1,1), return_std=True)\\n    MC_y_average = np.mean(MC_y_samples.reshape(-1))\\n    MC_y_std = max(np.max(std_MC_y_samples.reshape(-1)), std_Kai_NPT_lnx_list[0][i])/np.sqrt(100*(i))\\n    MCintegral_gp.append(MC_y_average*(area_lnx))\\n    MCintegral_gp_std.append(MC_y_std*area_lnx)\\n\\nMCintegral_gp = np.array(MCintegral_gp)\\nMCintegral_gp_std = np.array(MCintegral_gp_std)\\n'"
      ]
     },
     "execution_count": 20,
     "metadata": {},
     "output_type": "execute_result"
    }
   ],
   "source": [
    "# integral by MC\n",
    "'''\n",
    "lnx = lnx.reshape(-1)\n",
    "MCintegral_gp = [y_gp[0]]\n",
    "MCintegral_gp_std = [0]\n",
    "print(std_Kai_NPT_lnx_list)\n",
    "\n",
    "for i in range(1, len(lnx)-1):\n",
    "    min_lnx = lnx[0]\n",
    "    max_lnx = lnx[i+1]\n",
    "    area_lnx = (max_lnx-min_lnx)\n",
    "    MC_x_samples = np.random.uniform(min_lnx, max_lnx, size=100*(i))\n",
    "    MC_y_samples, std_MC_y_samples = gp.predict(MC_x_samples.reshape(-1,1), return_std=True)\n",
    "    MC_y_average = np.mean(MC_y_samples.reshape(-1))\n",
    "    MC_y_std = max(np.max(std_MC_y_samples.reshape(-1)), std_Kai_NPT_lnx_list[0][i])/np.sqrt(100*(i))\n",
    "    MCintegral_gp.append(MC_y_average*(area_lnx))\n",
    "    MCintegral_gp_std.append(MC_y_std*area_lnx)\n",
    "\n",
    "MCintegral_gp = np.array(MCintegral_gp)\n",
    "MCintegral_gp_std = np.array(MCintegral_gp_std)\n",
    "'''\n"
   ]
  },
  {
   "cell_type": "code",
   "execution_count": 21,
   "metadata": {},
   "outputs": [
    {
     "data": {
      "text/plain": [
       "'\\nlowerb_MCintegral_gp = MCintegral_gp-MCintegral_gp_std\\nupperb_MCintegral_gp = MCintegral_gp+MCintegral_gp_std\\nprint(MCintegral_gp_std)\\n'"
      ]
     },
     "execution_count": 21,
     "metadata": {},
     "output_type": "execute_result"
    }
   ],
   "source": [
    "'''\n",
    "lowerb_MCintegral_gp = MCintegral_gp-MCintegral_gp_std\n",
    "upperb_MCintegral_gp = MCintegral_gp+MCintegral_gp_std\n",
    "print(MCintegral_gp_std)\n",
    "'''"
   ]
  },
  {
   "cell_type": "code",
   "execution_count": 22,
   "metadata": {},
   "outputs": [
    {
     "data": {
      "text/plain": [
       "'\\nlnx_sample = lnx_sample.reshape(-1)\\nMCintegral_sample = [y_sample[-1]]\\nMCintegral_sample_std = [std_y_sample[-1]]\\nfor i in range(2, len(lnx_sample)+1):\\n    min_lnx = lnx_sample[-i]\\n    max_lnx = lnx_sample[-1]\\n    area_lnx = (max_lnx-min_lnx)\\n    MC_x_samples = np.random.uniform(min_lnx, max_lnx, size=100*(i-1))\\n    MC_y_samples, std_MC_y_samples = gp.predict(MC_x_samples.reshape(-1,1), return_std=True)\\n    MC_y_average = np.mean(MC_y_samples.reshape(-1))\\n    MC_y_std = np.max(std_MC_y_samples.reshape(-1))/np.sqrt(100*(i-1))\\n    MCintegral_sample.append(y_sample[-1]-MC_y_average*(area_lnx))\\n    MCintegral_sample_std.append(MC_y_std*area_lnx)\\n\\nMCintegral_sample = np.array(MCintegral_sample)[::-1]\\nMCintegral_sample_std = np.array(MCintegral_sample_std)[::-1]\\nlowerb_MCintegral_sample = MCintegral_sample-MCintegral_sample_std\\nupperb_MCintegral_sample = MCintegral_sample+MCintegral_sample_std\\n'"
      ]
     },
     "execution_count": 22,
     "metadata": {},
     "output_type": "execute_result"
    }
   ],
   "source": [
    "# integral by MC\n",
    "'''\n",
    "lnx_sample = lnx_sample.reshape(-1)\n",
    "MCintegral_sample = [y_sample[-1]]\n",
    "MCintegral_sample_std = [std_y_sample[-1]]\n",
    "for i in range(2, len(lnx_sample)+1):\n",
    "    min_lnx = lnx_sample[-i]\n",
    "    max_lnx = lnx_sample[-1]\n",
    "    area_lnx = (max_lnx-min_lnx)\n",
    "    MC_x_samples = np.random.uniform(min_lnx, max_lnx, size=100*(i-1))\n",
    "    MC_y_samples, std_MC_y_samples = gp.predict(MC_x_samples.reshape(-1,1), return_std=True)\n",
    "    MC_y_average = np.mean(MC_y_samples.reshape(-1))\n",
    "    MC_y_std = np.max(std_MC_y_samples.reshape(-1))/np.sqrt(100*(i-1))\n",
    "    MCintegral_sample.append(y_sample[-1]-MC_y_average*(area_lnx))\n",
    "    MCintegral_sample_std.append(MC_y_std*area_lnx)\n",
    "\n",
    "MCintegral_sample = np.array(MCintegral_sample)[::-1]\n",
    "MCintegral_sample_std = np.array(MCintegral_sample_std)[::-1]\n",
    "lowerb_MCintegral_sample = MCintegral_sample-MCintegral_sample_std\n",
    "upperb_MCintegral_sample = MCintegral_sample+MCintegral_sample_std\n",
    "'''"
   ]
  },
  {
   "cell_type": "code",
   "execution_count": 23,
   "metadata": {},
   "outputs": [
    {
     "data": {
      "text/plain": [
       "'\\nplt.scatter(lnx, integral_gp-integral_gp[0], c=\"blue\")\\nplt.plot(lnx, MCintegral_gp-MCintegral_gp[0], c=\"blue\")\\nplt.fill_between(lnx, lowerb_MCintegral_gp-lowerb_MCintegral_gp[0], upperb_MCintegral_gp-upperb_MCintegral_gp[0], color=\"blue\", alpha=0.2)\\nplt.ylabel(\"$\\\\mu_C (k_BT/atom, T=4040K)$\")\\nplt.xlabel(\"$lnx_C$\")\\n'"
      ]
     },
     "execution_count": 23,
     "metadata": {},
     "output_type": "execute_result"
    }
   ],
   "source": [
    "'''\n",
    "plt.scatter(lnx, integral_gp-integral_gp[0], c=\"blue\")\n",
    "plt.plot(lnx, MCintegral_gp-MCintegral_gp[0], c=\"blue\")\n",
    "plt.fill_between(lnx, lowerb_MCintegral_gp-lowerb_MCintegral_gp[0], upperb_MCintegral_gp-upperb_MCintegral_gp[0], color=\"blue\", alpha=0.2)\n",
    "plt.ylabel(\"$\\mu_C (k_BT/atom, T=4040K)$\")\n",
    "plt.xlabel(\"$lnx_C$\")\n",
    "'''"
   ]
  },
  {
   "cell_type": "code",
   "execution_count": 27,
   "metadata": {},
   "outputs": [
    {
     "data": {
      "text/plain": [
       "<matplotlib.legend.Legend at 0x14b7d825f310>"
      ]
     },
     "execution_count": 27,
     "metadata": {},
     "output_type": "execute_result"
    },
    {
     "data": {
      "image/png": "[encoded data removed]",
      "text/plain": [
       "<Figure size 600x500 with 1 Axes>"
      ]
     },
     "metadata": {},
     "output_type": "display_data"
    }
   ],
   "source": [
    "\n",
    "plt.scatter(xlist[:-1], (integral_gp), label=\"trapezoidal of samples\", c=\"blue\")\n",
    "# plt.plot(x_sample[1:], (integral_sample-integral_sample[0]), c=\"blue\")\n",
    "# plt.fill_between(x, (lowerb_MCintegral_gp-lowerb_MCintegral_gp[0]), (upperb_MCintegral_gp-upperb_MCintegral_gp[0]), color=\"blue\", alpha=0.2, label=\"MC of GPR\")\n",
    "\n",
    "plt.scatter(1-xlist[:-1], (integral_gp1), label=\"trapezoidal of samples\", c=\"w\", edgecolors=\"red\")\n",
    "plt.axhline(0, c=\"k\")\n",
    "plt.ylabel(\"$\\mu_A+Const.$\")\n",
    "plt.xlabel(\"$x_A$\")\n",
    "plt.legend()"
   ]
  },
  {
   "cell_type": "code",
   "execution_count": 25,
   "metadata": {},
   "outputs": [
    {
     "name": "stdout",
     "output_type": "stream",
     "text": [
      "4040K to kJ/mol: 28.117315436241608\n",
      "4040K to eV: 0.3487866666666667\n"
     ]
    }
   ],
   "source": [
    "print(\"4040K to kJ/mol:\", 4040./298.*2.074)\n",
    "print(\"4040K to eV:\", 4040./300.*0.0259)"
   ]
  }
 ],
 "metadata": {
  "kernelspec": {
   "display_name": "base",
   "language": "python",
   "name": "python3"
  },
  "language_info": {
   "codemirror_mode": {
    "name": "ipython",
    "version": 3
   },
   "file_extension": ".py",
   "mimetype": "text/x-python",
   "name": "python",
   "nbconvert_exporter": "python",
   "pygments_lexer": "ipython3",
   "version": "3.10.11"
  }
 },
 "nbformat": 4,
 "nbformat_minor": 2
}
